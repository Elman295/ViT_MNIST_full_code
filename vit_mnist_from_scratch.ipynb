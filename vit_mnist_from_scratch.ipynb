{
  "cells": [
    {
      "cell_type": "markdown",
      "metadata": {
        "id": "view-in-github",
        "colab_type": "text"
      },
      "source": [
        "<a href=\"https://colab.research.google.com/github/Elman295/ViT_MNIST_full_code/blob/main/vit_mnist_from_scratch.ipynb\" target=\"_parent\"><img src=\"https://colab.research.google.com/assets/colab-badge.svg\" alt=\"Open In Colab\"/></a>"
      ]
    },
    {
      "cell_type": "code",
      "source": [
        "import numpy as np\n",
        "import matplotlib.pyplot as plt\n",
        "\n",
        "import torch\n",
        "import torchvision\n",
        "from torchvision import datasets, transforms\n",
        "from torch.utils.data import DataLoader, Dataset\n",
        "from torch import nn"
      ],
      "metadata": {
        "id": "B3FdLJycBIwj"
      },
      "execution_count": 42,
      "outputs": []
    },
    {
      "cell_type": "code",
      "source": [
        "tfms = transforms.Compose([\n",
        "    transforms.ToTensor()\n",
        "])\n",
        "\n",
        "train_ds = datasets.MNIST(\n",
        "    root = \"data\",\n",
        "    train = True,\n",
        "    download = True,\n",
        "    transform = tfms\n",
        ")\n",
        "\n",
        "test_ds = datasets.MNIST(\n",
        "    root = \"data\",\n",
        "    train = False,\n",
        "    download = True,\n",
        "    transform = tfms\n",
        ")"
      ],
      "metadata": {
        "colab": {
          "base_uri": "https://localhost:8080/"
        },
        "id": "ngAyM06sBWPi",
        "outputId": "57c1de0b-5e0a-4ef8-ec43-3f815a253fae"
      },
      "execution_count": 2,
      "outputs": [
        {
          "output_type": "stream",
          "name": "stdout",
          "text": [
            "Downloading http://yann.lecun.com/exdb/mnist/train-images-idx3-ubyte.gz\n",
            "Failed to download (trying next):\n",
            "HTTP Error 403: Forbidden\n",
            "\n",
            "Downloading https://ossci-datasets.s3.amazonaws.com/mnist/train-images-idx3-ubyte.gz\n",
            "Downloading https://ossci-datasets.s3.amazonaws.com/mnist/train-images-idx3-ubyte.gz to data/MNIST/raw/train-images-idx3-ubyte.gz\n"
          ]
        },
        {
          "output_type": "stream",
          "name": "stderr",
          "text": [
            "100%|██████████| 9912422/9912422 [00:00<00:00, 53933422.38it/s]\n"
          ]
        },
        {
          "output_type": "stream",
          "name": "stdout",
          "text": [
            "Extracting data/MNIST/raw/train-images-idx3-ubyte.gz to data/MNIST/raw\n",
            "\n",
            "Downloading http://yann.lecun.com/exdb/mnist/train-labels-idx1-ubyte.gz\n",
            "Failed to download (trying next):\n",
            "HTTP Error 403: Forbidden\n",
            "\n",
            "Downloading https://ossci-datasets.s3.amazonaws.com/mnist/train-labels-idx1-ubyte.gz\n",
            "Downloading https://ossci-datasets.s3.amazonaws.com/mnist/train-labels-idx1-ubyte.gz to data/MNIST/raw/train-labels-idx1-ubyte.gz\n"
          ]
        },
        {
          "output_type": "stream",
          "name": "stderr",
          "text": [
            "100%|██████████| 28881/28881 [00:00<00:00, 1701487.40it/s]\n"
          ]
        },
        {
          "output_type": "stream",
          "name": "stdout",
          "text": [
            "Extracting data/MNIST/raw/train-labels-idx1-ubyte.gz to data/MNIST/raw\n",
            "\n",
            "Downloading http://yann.lecun.com/exdb/mnist/t10k-images-idx3-ubyte.gz\n",
            "Failed to download (trying next):\n",
            "HTTP Error 403: Forbidden\n",
            "\n",
            "Downloading https://ossci-datasets.s3.amazonaws.com/mnist/t10k-images-idx3-ubyte.gz\n",
            "Downloading https://ossci-datasets.s3.amazonaws.com/mnist/t10k-images-idx3-ubyte.gz to data/MNIST/raw/t10k-images-idx3-ubyte.gz\n"
          ]
        },
        {
          "output_type": "stream",
          "name": "stderr",
          "text": [
            "100%|██████████| 1648877/1648877 [00:00<00:00, 14002784.80it/s]\n"
          ]
        },
        {
          "output_type": "stream",
          "name": "stdout",
          "text": [
            "Extracting data/MNIST/raw/t10k-images-idx3-ubyte.gz to data/MNIST/raw\n",
            "\n",
            "Downloading http://yann.lecun.com/exdb/mnist/t10k-labels-idx1-ubyte.gz\n",
            "Failed to download (trying next):\n",
            "HTTP Error 403: Forbidden\n",
            "\n",
            "Downloading https://ossci-datasets.s3.amazonaws.com/mnist/t10k-labels-idx1-ubyte.gz\n",
            "Downloading https://ossci-datasets.s3.amazonaws.com/mnist/t10k-labels-idx1-ubyte.gz to data/MNIST/raw/t10k-labels-idx1-ubyte.gz\n"
          ]
        },
        {
          "output_type": "stream",
          "name": "stderr",
          "text": [
            "100%|██████████| 4542/4542 [00:00<00:00, 8172685.01it/s]\n"
          ]
        },
        {
          "output_type": "stream",
          "name": "stdout",
          "text": [
            "Extracting data/MNIST/raw/t10k-labels-idx1-ubyte.gz to data/MNIST/raw\n",
            "\n"
          ]
        }
      ]
    },
    {
      "cell_type": "code",
      "source": [
        "train_dl = DataLoader(dataset = train_ds, batch_size = 32, shuffle = True)\n",
        "\n",
        "test_dl = DataLoader(dataset = test_ds, batch_size = 32, shuffle = False)"
      ],
      "metadata": {
        "id": "iJuc1CQQDhaN"
      },
      "execution_count": 3,
      "outputs": []
    },
    {
      "cell_type": "code",
      "source": [
        "image, label = next(iter(train_dl))\n",
        "outs = torchvision.utils.make_grid(image)\n",
        "\n",
        "plt.imshow(np.transpose(outs,(1,2,0)))\n",
        "plt.show()"
      ],
      "metadata": {
        "colab": {
          "base_uri": "https://localhost:8080/",
          "height": 315
        },
        "id": "ORxZxnSBD1uM",
        "outputId": "174825b9-c97d-493f-ee8d-698de9a3087b"
      },
      "execution_count": 4,
      "outputs": [
        {
          "output_type": "display_data",
          "data": {
            "text/plain": [
              "<Figure size 640x480 with 1 Axes>"
            ],
            "image/png": "[encoded data removed]"
          },
          "metadata": {}
        }
      ]
    },
    {
      "cell_type": "code",
      "source": [
        "MNIST_examples = torch.stack([train_ds[idx][0] for idx in range(5)], dim=0)"
      ],
      "metadata": {
        "id": "smPaZUdLOjiL"
      },
      "execution_count": 5,
      "outputs": []
    },
    {
      "cell_type": "code",
      "source": [
        "rs = torch.tensor([[1,1,1,1,1,1],[2,2,2,2,2,2],[3,3,3,3,3,3],[4,4,4,4,4,4],[5,5,5,5,5,5],[6,6,6,6,6,6]])\n",
        "rs.shape"
      ],
      "metadata": {
        "colab": {
          "base_uri": "https://localhost:8080/"
        },
        "id": "wM2eGHZEQNCL",
        "outputId": "7966389c-1b49-44af-d86f-6783ec83b1ef"
      },
      "execution_count": 14,
      "outputs": [
        {
          "output_type": "execute_result",
          "data": {
            "text/plain": [
              "torch.Size([6, 6])"
            ]
          },
          "metadata": {},
          "execution_count": 14
        }
      ]
    },
    {
      "cell_type": "code",
      "source": [
        "rs"
      ],
      "metadata": {
        "colab": {
          "base_uri": "https://localhost:8080/"
        },
        "id": "3b-D3HKZQdCu",
        "outputId": "73f2d3d3-15f8-4b50-cd59-d28c14c90fda"
      },
      "execution_count": 15,
      "outputs": [
        {
          "output_type": "execute_result",
          "data": {
            "text/plain": [
              "tensor([[1, 1, 1, 1, 1, 1],\n",
              "        [2, 2, 2, 2, 2, 2],\n",
              "        [3, 3, 3, 3, 3, 3],\n",
              "        [4, 4, 4, 4, 4, 4],\n",
              "        [5, 5, 5, 5, 5, 5],\n",
              "        [6, 6, 6, 6, 6, 6]])"
            ]
          },
          "metadata": {},
          "execution_count": 15
        }
      ]
    },
    {
      "cell_type": "code",
      "source": [
        "rs = rs.view(6//3,3,6//3,3)\n",
        "rs.shape\n",
        "rs = rs.permute(0,2,1,3)"
      ],
      "metadata": {
        "id": "oUJfsaWkQxyr"
      },
      "execution_count": 22,
      "outputs": []
    },
    {
      "cell_type": "code",
      "source": [
        "rs"
      ],
      "metadata": {
        "colab": {
          "base_uri": "https://localhost:8080/"
        },
        "id": "9TPu028ZChPe",
        "outputId": "1fd47998-a710-4c39-89bc-69c473f293c7"
      },
      "execution_count": 23,
      "outputs": [
        {
          "output_type": "execute_result",
          "data": {
            "text/plain": [
              "tensor([[[[1, 1, 1],\n",
              "          [2, 2, 2],\n",
              "          [3, 3, 3]],\n",
              "\n",
              "         [[1, 1, 1],\n",
              "          [2, 2, 2],\n",
              "          [3, 3, 3]]],\n",
              "\n",
              "\n",
              "        [[[4, 4, 4],\n",
              "          [5, 5, 5],\n",
              "          [6, 6, 6]],\n",
              "\n",
              "         [[4, 4, 4],\n",
              "          [5, 5, 5],\n",
              "          [6, 6, 6]]]])"
            ]
          },
          "metadata": {},
          "execution_count": 23
        }
      ]
    },
    {
      "cell_type": "code",
      "source": [
        "def img_to_path(image, p_size = 7):\n",
        "\n",
        "  c,h,w =  image.shape\n",
        "\n",
        "  image = image.view(c, h // p_size, p_size, w // p_size, p_size)\n",
        "  image = image.permute(1,3,0,2,4)\n",
        "  image = image.flatten(0,1)\n",
        "\n",
        "\n",
        "\n",
        "  return image"
      ],
      "metadata": {
        "id": "gXaKB29IECfD"
      },
      "execution_count": 29,
      "outputs": []
    },
    {
      "cell_type": "code",
      "source": [
        "x = torch.rand(size = (1,28,28))\n",
        "y = img_to_path(x)\n"
      ],
      "metadata": {
        "id": "u4CqURYcEkWE"
      },
      "execution_count": 30,
      "outputs": []
    },
    {
      "cell_type": "code",
      "source": [
        "y.shape"
      ],
      "metadata": {
        "colab": {
          "base_uri": "https://localhost:8080/"
        },
        "id": "59LKcqrtE4rq",
        "outputId": "ee42f9b5-0042-417b-d262-638ccf816f2c"
      },
      "execution_count": 31,
      "outputs": [
        {
          "output_type": "execute_result",
          "data": {
            "text/plain": [
              "torch.Size([16, 1, 7, 7])"
            ]
          },
          "metadata": {},
          "execution_count": 31
        }
      ]
    },
    {
      "cell_type": "code",
      "source": [
        "x_s,y_s = train_ds[0]"
      ],
      "metadata": {
        "id": "Mb-PB8XpFrca"
      },
      "execution_count": 33,
      "outputs": []
    },
    {
      "cell_type": "code",
      "source": [
        "plt.imshow(x_s.permute(1,2,0))"
      ],
      "metadata": {
        "colab": {
          "base_uri": "https://localhost:8080/",
          "height": 448
        },
        "id": "myfKRutQF0CW",
        "outputId": "c9ba0630-13b6-4c2c-f044-4fbaea0923e7"
      },
      "execution_count": 34,
      "outputs": [
        {
          "output_type": "execute_result",
          "data": {
            "text/plain": [
              "<matplotlib.image.AxesImage at 0x7c08b82fef50>"
            ]
          },
          "metadata": {},
          "execution_count": 34
        },
        {
          "output_type": "display_data",
          "data": {
            "text/plain": [
              "<Figure size 640x480 with 1 Axes>"
            ],
            "image/png": "[encoded data removed]"
          },
          "metadata": {}
        }
      ]
    },
    {
      "cell_type": "code",
      "source": [
        "y_p = img_to_path(x_s)"
      ],
      "metadata": {
        "id": "UWhzcQEMJAjS"
      },
      "execution_count": 35,
      "outputs": []
    },
    {
      "cell_type": "code",
      "source": [
        "y_p.shape"
      ],
      "metadata": {
        "colab": {
          "base_uri": "https://localhost:8080/"
        },
        "id": "EHGTxj9GGDrt",
        "outputId": "7e0eaeaa-80fb-4d0c-9a30-200d6e7ab0b4"
      },
      "execution_count": 36,
      "outputs": [
        {
          "output_type": "execute_result",
          "data": {
            "text/plain": [
              "torch.Size([16, 1, 7, 7])"
            ]
          },
          "metadata": {},
          "execution_count": 36
        }
      ]
    },
    {
      "cell_type": "code",
      "source": [
        "x_s"
      ],
      "metadata": {
        "colab": {
          "base_uri": "https://localhost:8080/"
        },
        "id": "2ZmBJgX1IvbV",
        "outputId": "24c51654-3909-4961-8bca-0c672895807e"
      },
      "execution_count": 37,
      "outputs": [
        {
          "output_type": "execute_result",
          "data": {
            "text/plain": [
              "tensor([[[0.0000, 0.0000, 0.0000, 0.0000, 0.0000, 0.0000, 0.0000, 0.0000,\n",
              "          0.0000, 0.0000, 0.0000, 0.0000, 0.0000, 0.0000, 0.0000, 0.0000,\n",
              "          0.0000, 0.0000, 0.0000, 0.0000, 0.0000, 0.0000, 0.0000, 0.0000,\n",
              "          0.0000, 0.0000, 0.0000, 0.0000],\n",
              "         [0.0000, 0.0000, 0.0000, 0.0000, 0.0000, 0.0000, 0.0000, 0.0000,\n",
              "          0.0000, 0.0000, 0.0000, 0.0000, 0.0000, 0.0000, 0.0000, 0.0000,\n",
              "          0.0000, 0.0000, 0.0000, 0.0000, 0.0000, 0.0000, 0.0000, 0.0000,\n",
              "          0.0000, 0.0000, 0.0000, 0.0000],\n",
              "         [0.0000, 0.0000, 0.0000, 0.0000, 0.0000, 0.0000, 0.0000, 0.0000,\n",
              "          0.0000, 0.0000, 0.0000, 0.0000, 0.0000, 0.0000, 0.0000, 0.0000,\n",
              "          0.0000, 0.0000, 0.0000, 0.0000, 0.0000, 0.0000, 0.0000, 0.0000,\n",
              "          0.0000, 0.0000, 0.0000, 0.0000],\n",
              "         [0.0000, 0.0000, 0.0000, 0.0000, 0.0000, 0.0000, 0.0000, 0.0000,\n",
              "          0.0000, 0.0000, 0.0000, 0.0000, 0.0000, 0.0000, 0.0000, 0.0000,\n",
              "          0.0000, 0.0000, 0.0000, 0.0000, 0.0000, 0.0000, 0.0000, 0.0000,\n",
              "          0.0000, 0.0000, 0.0000, 0.0000],\n",
              "         [0.0000, 0.0000, 0.0000, 0.0000, 0.0000, 0.0000, 0.0000, 0.0000,\n",
              "          0.0000, 0.0000, 0.0000, 0.0000, 0.0000, 0.0000, 0.0000, 0.0000,\n",
              "          0.0000, 0.0000, 0.0000, 0.0000, 0.0000, 0.0000, 0.0000, 0.0000,\n",
              "          0.0000, 0.0000, 0.0000, 0.0000],\n",
              "         [0.0000, 0.0000, 0.0000, 0.0000, 0.0000, 0.0000, 0.0000, 0.0000,\n",
              "          0.0000, 0.0000, 0.0000, 0.0000, 0.0118, 0.0706, 0.0706, 0.0706,\n",
              "          0.4941, 0.5333, 0.6863, 0.1020, 0.6510, 1.0000, 0.9686, 0.4980,\n",
              "          0.0000, 0.0000, 0.0000, 0.0000],\n",
              "         [0.0000, 0.0000, 0.0000, 0.0000, 0.0000, 0.0000, 0.0000, 0.0000,\n",
              "          0.1176, 0.1412, 0.3686, 0.6039, 0.6667, 0.9922, 0.9922, 0.9922,\n",
              "          0.9922, 0.9922, 0.8824, 0.6745, 0.9922, 0.9490, 0.7647, 0.2510,\n",
              "          0.0000, 0.0000, 0.0000, 0.0000],\n",
              "         [0.0000, 0.0000, 0.0000, 0.0000, 0.0000, 0.0000, 0.0000, 0.1922,\n",
              "          0.9333, 0.9922, 0.9922, 0.9922, 0.9922, 0.9922, 0.9922, 0.9922,\n",
              "          0.9922, 0.9843, 0.3647, 0.3216, 0.3216, 0.2196, 0.1529, 0.0000,\n",
              "          0.0000, 0.0000, 0.0000, 0.0000],\n",
              "         [0.0000, 0.0000, 0.0000, 0.0000, 0.0000, 0.0000, 0.0000, 0.0706,\n",
              "          0.8588, 0.9922, 0.9922, 0.9922, 0.9922, 0.9922, 0.7765, 0.7137,\n",
              "          0.9686, 0.9451, 0.0000, 0.0000, 0.0000, 0.0000, 0.0000, 0.0000,\n",
              "          0.0000, 0.0000, 0.0000, 0.0000],\n",
              "         [0.0000, 0.0000, 0.0000, 0.0000, 0.0000, 0.0000, 0.0000, 0.0000,\n",
              "          0.3137, 0.6118, 0.4196, 0.9922, 0.9922, 0.8039, 0.0431, 0.0000,\n",
              "          0.1686, 0.6039, 0.0000, 0.0000, 0.0000, 0.0000, 0.0000, 0.0000,\n",
              "          0.0000, 0.0000, 0.0000, 0.0000],\n",
              "         [0.0000, 0.0000, 0.0000, 0.0000, 0.0000, 0.0000, 0.0000, 0.0000,\n",
              "          0.0000, 0.0549, 0.0039, 0.6039, 0.9922, 0.3529, 0.0000, 0.0000,\n",
              "          0.0000, 0.0000, 0.0000, 0.0000, 0.0000, 0.0000, 0.0000, 0.0000,\n",
              "          0.0000, 0.0000, 0.0000, 0.0000],\n",
              "         [0.0000, 0.0000, 0.0000, 0.0000, 0.0000, 0.0000, 0.0000, 0.0000,\n",
              "          0.0000, 0.0000, 0.0000, 0.5451, 0.9922, 0.7451, 0.0078, 0.0000,\n",
              "          0.0000, 0.0000, 0.0000, 0.0000, 0.0000, 0.0000, 0.0000, 0.0000,\n",
              "          0.0000, 0.0000, 0.0000, 0.0000],\n",
              "         [0.0000, 0.0000, 0.0000, 0.0000, 0.0000, 0.0000, 0.0000, 0.0000,\n",
              "          0.0000, 0.0000, 0.0000, 0.0431, 0.7451, 0.9922, 0.2745, 0.0000,\n",
              "          0.0000, 0.0000, 0.0000, 0.0000, 0.0000, 0.0000, 0.0000, 0.0000,\n",
              "          0.0000, 0.0000, 0.0000, 0.0000],\n",
              "         [0.0000, 0.0000, 0.0000, 0.0000, 0.0000, 0.0000, 0.0000, 0.0000,\n",
              "          0.0000, 0.0000, 0.0000, 0.0000, 0.1373, 0.9451, 0.8824, 0.6275,\n",
              "          0.4235, 0.0039, 0.0000, 0.0000, 0.0000, 0.0000, 0.0000, 0.0000,\n",
              "          0.0000, 0.0000, 0.0000, 0.0000],\n",
              "         [0.0000, 0.0000, 0.0000, 0.0000, 0.0000, 0.0000, 0.0000, 0.0000,\n",
              "          0.0000, 0.0000, 0.0000, 0.0000, 0.0000, 0.3176, 0.9412, 0.9922,\n",
              "          0.9922, 0.4667, 0.0980, 0.0000, 0.0000, 0.0000, 0.0000, 0.0000,\n",
              "          0.0000, 0.0000, 0.0000, 0.0000],\n",
              "         [0.0000, 0.0000, 0.0000, 0.0000, 0.0000, 0.0000, 0.0000, 0.0000,\n",
              "          0.0000, 0.0000, 0.0000, 0.0000, 0.0000, 0.0000, 0.1765, 0.7294,\n",
              "          0.9922, 0.9922, 0.5882, 0.1059, 0.0000, 0.0000, 0.0000, 0.0000,\n",
              "          0.0000, 0.0000, 0.0000, 0.0000],\n",
              "         [0.0000, 0.0000, 0.0000, 0.0000, 0.0000, 0.0000, 0.0000, 0.0000,\n",
              "          0.0000, 0.0000, 0.0000, 0.0000, 0.0000, 0.0000, 0.0000, 0.0627,\n",
              "          0.3647, 0.9882, 0.9922, 0.7333, 0.0000, 0.0000, 0.0000, 0.0000,\n",
              "          0.0000, 0.0000, 0.0000, 0.0000],\n",
              "         [0.0000, 0.0000, 0.0000, 0.0000, 0.0000, 0.0000, 0.0000, 0.0000,\n",
              "          0.0000, 0.0000, 0.0000, 0.0000, 0.0000, 0.0000, 0.0000, 0.0000,\n",
              "          0.0000, 0.9765, 0.9922, 0.9765, 0.2510, 0.0000, 0.0000, 0.0000,\n",
              "          0.0000, 0.0000, 0.0000, 0.0000],\n",
              "         [0.0000, 0.0000, 0.0000, 0.0000, 0.0000, 0.0000, 0.0000, 0.0000,\n",
              "          0.0000, 0.0000, 0.0000, 0.0000, 0.0000, 0.0000, 0.1804, 0.5098,\n",
              "          0.7176, 0.9922, 0.9922, 0.8118, 0.0078, 0.0000, 0.0000, 0.0000,\n",
              "          0.0000, 0.0000, 0.0000, 0.0000],\n",
              "         [0.0000, 0.0000, 0.0000, 0.0000, 0.0000, 0.0000, 0.0000, 0.0000,\n",
              "          0.0000, 0.0000, 0.0000, 0.0000, 0.1529, 0.5804, 0.8980, 0.9922,\n",
              "          0.9922, 0.9922, 0.9804, 0.7137, 0.0000, 0.0000, 0.0000, 0.0000,\n",
              "          0.0000, 0.0000, 0.0000, 0.0000],\n",
              "         [0.0000, 0.0000, 0.0000, 0.0000, 0.0000, 0.0000, 0.0000, 0.0000,\n",
              "          0.0000, 0.0000, 0.0941, 0.4471, 0.8667, 0.9922, 0.9922, 0.9922,\n",
              "          0.9922, 0.7882, 0.3059, 0.0000, 0.0000, 0.0000, 0.0000, 0.0000,\n",
              "          0.0000, 0.0000, 0.0000, 0.0000],\n",
              "         [0.0000, 0.0000, 0.0000, 0.0000, 0.0000, 0.0000, 0.0000, 0.0000,\n",
              "          0.0902, 0.2588, 0.8353, 0.9922, 0.9922, 0.9922, 0.9922, 0.7765,\n",
              "          0.3176, 0.0078, 0.0000, 0.0000, 0.0000, 0.0000, 0.0000, 0.0000,\n",
              "          0.0000, 0.0000, 0.0000, 0.0000],\n",
              "         [0.0000, 0.0000, 0.0000, 0.0000, 0.0000, 0.0000, 0.0706, 0.6706,\n",
              "          0.8588, 0.9922, 0.9922, 0.9922, 0.9922, 0.7647, 0.3137, 0.0353,\n",
              "          0.0000, 0.0000, 0.0000, 0.0000, 0.0000, 0.0000, 0.0000, 0.0000,\n",
              "          0.0000, 0.0000, 0.0000, 0.0000],\n",
              "         [0.0000, 0.0000, 0.0000, 0.0000, 0.2157, 0.6745, 0.8863, 0.9922,\n",
              "          0.9922, 0.9922, 0.9922, 0.9569, 0.5216, 0.0431, 0.0000, 0.0000,\n",
              "          0.0000, 0.0000, 0.0000, 0.0000, 0.0000, 0.0000, 0.0000, 0.0000,\n",
              "          0.0000, 0.0000, 0.0000, 0.0000],\n",
              "         [0.0000, 0.0000, 0.0000, 0.0000, 0.5333, 0.9922, 0.9922, 0.9922,\n",
              "          0.8314, 0.5294, 0.5176, 0.0627, 0.0000, 0.0000, 0.0000, 0.0000,\n",
              "          0.0000, 0.0000, 0.0000, 0.0000, 0.0000, 0.0000, 0.0000, 0.0000,\n",
              "          0.0000, 0.0000, 0.0000, 0.0000],\n",
              "         [0.0000, 0.0000, 0.0000, 0.0000, 0.0000, 0.0000, 0.0000, 0.0000,\n",
              "          0.0000, 0.0000, 0.0000, 0.0000, 0.0000, 0.0000, 0.0000, 0.0000,\n",
              "          0.0000, 0.0000, 0.0000, 0.0000, 0.0000, 0.0000, 0.0000, 0.0000,\n",
              "          0.0000, 0.0000, 0.0000, 0.0000],\n",
              "         [0.0000, 0.0000, 0.0000, 0.0000, 0.0000, 0.0000, 0.0000, 0.0000,\n",
              "          0.0000, 0.0000, 0.0000, 0.0000, 0.0000, 0.0000, 0.0000, 0.0000,\n",
              "          0.0000, 0.0000, 0.0000, 0.0000, 0.0000, 0.0000, 0.0000, 0.0000,\n",
              "          0.0000, 0.0000, 0.0000, 0.0000],\n",
              "         [0.0000, 0.0000, 0.0000, 0.0000, 0.0000, 0.0000, 0.0000, 0.0000,\n",
              "          0.0000, 0.0000, 0.0000, 0.0000, 0.0000, 0.0000, 0.0000, 0.0000,\n",
              "          0.0000, 0.0000, 0.0000, 0.0000, 0.0000, 0.0000, 0.0000, 0.0000,\n",
              "          0.0000, 0.0000, 0.0000, 0.0000]]])"
            ]
          },
          "metadata": {},
          "execution_count": 37
        }
      ]
    },
    {
      "cell_type": "code",
      "source": [
        "y_p"
      ],
      "metadata": {
        "colab": {
          "base_uri": "https://localhost:8080/"
        },
        "id": "D3HemmObIzD9",
        "outputId": "559745f1-6c4f-41fd-c4c8-33d0c4ae2bdf"
      },
      "execution_count": 38,
      "outputs": [
        {
          "output_type": "execute_result",
          "data": {
            "text/plain": [
              "tensor([[[[0.0000, 0.0000, 0.0000, 0.0000, 0.0000, 0.0000, 0.0000],\n",
              "          [0.0000, 0.0000, 0.0000, 0.0000, 0.0000, 0.0000, 0.0000],\n",
              "          [0.0000, 0.0000, 0.0000, 0.0000, 0.0000, 0.0000, 0.0000],\n",
              "          [0.0000, 0.0000, 0.0000, 0.0000, 0.0000, 0.0000, 0.0000],\n",
              "          [0.0000, 0.0000, 0.0000, 0.0000, 0.0000, 0.0000, 0.0000],\n",
              "          [0.0000, 0.0000, 0.0000, 0.0000, 0.0000, 0.0000, 0.0000],\n",
              "          [0.0000, 0.0000, 0.0000, 0.0000, 0.0000, 0.0000, 0.0000]]],\n",
              "\n",
              "\n",
              "        [[[0.0000, 0.0000, 0.0000, 0.0000, 0.0000, 0.0000, 0.0000],\n",
              "          [0.0000, 0.0000, 0.0000, 0.0000, 0.0000, 0.0000, 0.0000],\n",
              "          [0.0000, 0.0000, 0.0000, 0.0000, 0.0000, 0.0000, 0.0000],\n",
              "          [0.0000, 0.0000, 0.0000, 0.0000, 0.0000, 0.0000, 0.0000],\n",
              "          [0.0000, 0.0000, 0.0000, 0.0000, 0.0000, 0.0000, 0.0000],\n",
              "          [0.0000, 0.0000, 0.0000, 0.0000, 0.0000, 0.0118, 0.0706],\n",
              "          [0.0000, 0.1176, 0.1412, 0.3686, 0.6039, 0.6667, 0.9922]]],\n",
              "\n",
              "\n",
              "        [[[0.0000, 0.0000, 0.0000, 0.0000, 0.0000, 0.0000, 0.0000],\n",
              "          [0.0000, 0.0000, 0.0000, 0.0000, 0.0000, 0.0000, 0.0000],\n",
              "          [0.0000, 0.0000, 0.0000, 0.0000, 0.0000, 0.0000, 0.0000],\n",
              "          [0.0000, 0.0000, 0.0000, 0.0000, 0.0000, 0.0000, 0.0000],\n",
              "          [0.0000, 0.0000, 0.0000, 0.0000, 0.0000, 0.0000, 0.0000],\n",
              "          [0.0706, 0.0706, 0.4941, 0.5333, 0.6863, 0.1020, 0.6510],\n",
              "          [0.9922, 0.9922, 0.9922, 0.9922, 0.8824, 0.6745, 0.9922]]],\n",
              "\n",
              "\n",
              "        [[[0.0000, 0.0000, 0.0000, 0.0000, 0.0000, 0.0000, 0.0000],\n",
              "          [0.0000, 0.0000, 0.0000, 0.0000, 0.0000, 0.0000, 0.0000],\n",
              "          [0.0000, 0.0000, 0.0000, 0.0000, 0.0000, 0.0000, 0.0000],\n",
              "          [0.0000, 0.0000, 0.0000, 0.0000, 0.0000, 0.0000, 0.0000],\n",
              "          [0.0000, 0.0000, 0.0000, 0.0000, 0.0000, 0.0000, 0.0000],\n",
              "          [1.0000, 0.9686, 0.4980, 0.0000, 0.0000, 0.0000, 0.0000],\n",
              "          [0.9490, 0.7647, 0.2510, 0.0000, 0.0000, 0.0000, 0.0000]]],\n",
              "\n",
              "\n",
              "        [[[0.0000, 0.0000, 0.0000, 0.0000, 0.0000, 0.0000, 0.0000],\n",
              "          [0.0000, 0.0000, 0.0000, 0.0000, 0.0000, 0.0000, 0.0000],\n",
              "          [0.0000, 0.0000, 0.0000, 0.0000, 0.0000, 0.0000, 0.0000],\n",
              "          [0.0000, 0.0000, 0.0000, 0.0000, 0.0000, 0.0000, 0.0000],\n",
              "          [0.0000, 0.0000, 0.0000, 0.0000, 0.0000, 0.0000, 0.0000],\n",
              "          [0.0000, 0.0000, 0.0000, 0.0000, 0.0000, 0.0000, 0.0000],\n",
              "          [0.0000, 0.0000, 0.0000, 0.0000, 0.0000, 0.0000, 0.0000]]],\n",
              "\n",
              "\n",
              "        [[[0.1922, 0.9333, 0.9922, 0.9922, 0.9922, 0.9922, 0.9922],\n",
              "          [0.0706, 0.8588, 0.9922, 0.9922, 0.9922, 0.9922, 0.9922],\n",
              "          [0.0000, 0.3137, 0.6118, 0.4196, 0.9922, 0.9922, 0.8039],\n",
              "          [0.0000, 0.0000, 0.0549, 0.0039, 0.6039, 0.9922, 0.3529],\n",
              "          [0.0000, 0.0000, 0.0000, 0.0000, 0.5451, 0.9922, 0.7451],\n",
              "          [0.0000, 0.0000, 0.0000, 0.0000, 0.0431, 0.7451, 0.9922],\n",
              "          [0.0000, 0.0000, 0.0000, 0.0000, 0.0000, 0.1373, 0.9451]]],\n",
              "\n",
              "\n",
              "        [[[0.9922, 0.9922, 0.9922, 0.9843, 0.3647, 0.3216, 0.3216],\n",
              "          [0.7765, 0.7137, 0.9686, 0.9451, 0.0000, 0.0000, 0.0000],\n",
              "          [0.0431, 0.0000, 0.1686, 0.6039, 0.0000, 0.0000, 0.0000],\n",
              "          [0.0000, 0.0000, 0.0000, 0.0000, 0.0000, 0.0000, 0.0000],\n",
              "          [0.0078, 0.0000, 0.0000, 0.0000, 0.0000, 0.0000, 0.0000],\n",
              "          [0.2745, 0.0000, 0.0000, 0.0000, 0.0000, 0.0000, 0.0000],\n",
              "          [0.8824, 0.6275, 0.4235, 0.0039, 0.0000, 0.0000, 0.0000]]],\n",
              "\n",
              "\n",
              "        [[[0.2196, 0.1529, 0.0000, 0.0000, 0.0000, 0.0000, 0.0000],\n",
              "          [0.0000, 0.0000, 0.0000, 0.0000, 0.0000, 0.0000, 0.0000],\n",
              "          [0.0000, 0.0000, 0.0000, 0.0000, 0.0000, 0.0000, 0.0000],\n",
              "          [0.0000, 0.0000, 0.0000, 0.0000, 0.0000, 0.0000, 0.0000],\n",
              "          [0.0000, 0.0000, 0.0000, 0.0000, 0.0000, 0.0000, 0.0000],\n",
              "          [0.0000, 0.0000, 0.0000, 0.0000, 0.0000, 0.0000, 0.0000],\n",
              "          [0.0000, 0.0000, 0.0000, 0.0000, 0.0000, 0.0000, 0.0000]]],\n",
              "\n",
              "\n",
              "        [[[0.0000, 0.0000, 0.0000, 0.0000, 0.0000, 0.0000, 0.0000],\n",
              "          [0.0000, 0.0000, 0.0000, 0.0000, 0.0000, 0.0000, 0.0000],\n",
              "          [0.0000, 0.0000, 0.0000, 0.0000, 0.0000, 0.0000, 0.0000],\n",
              "          [0.0000, 0.0000, 0.0000, 0.0000, 0.0000, 0.0000, 0.0000],\n",
              "          [0.0000, 0.0000, 0.0000, 0.0000, 0.0000, 0.0000, 0.0000],\n",
              "          [0.0000, 0.0000, 0.0000, 0.0000, 0.0000, 0.0000, 0.0000],\n",
              "          [0.0000, 0.0000, 0.0000, 0.0000, 0.0000, 0.0000, 0.0000]]],\n",
              "\n",
              "\n",
              "        [[[0.0000, 0.0000, 0.0000, 0.0000, 0.0000, 0.0000, 0.3176],\n",
              "          [0.0000, 0.0000, 0.0000, 0.0000, 0.0000, 0.0000, 0.0000],\n",
              "          [0.0000, 0.0000, 0.0000, 0.0000, 0.0000, 0.0000, 0.0000],\n",
              "          [0.0000, 0.0000, 0.0000, 0.0000, 0.0000, 0.0000, 0.0000],\n",
              "          [0.0000, 0.0000, 0.0000, 0.0000, 0.0000, 0.0000, 0.0000],\n",
              "          [0.0000, 0.0000, 0.0000, 0.0000, 0.0000, 0.1529, 0.5804],\n",
              "          [0.0000, 0.0000, 0.0000, 0.0941, 0.4471, 0.8667, 0.9922]]],\n",
              "\n",
              "\n",
              "        [[[0.9412, 0.9922, 0.9922, 0.4667, 0.0980, 0.0000, 0.0000],\n",
              "          [0.1765, 0.7294, 0.9922, 0.9922, 0.5882, 0.1059, 0.0000],\n",
              "          [0.0000, 0.0627, 0.3647, 0.9882, 0.9922, 0.7333, 0.0000],\n",
              "          [0.0000, 0.0000, 0.0000, 0.9765, 0.9922, 0.9765, 0.2510],\n",
              "          [0.1804, 0.5098, 0.7176, 0.9922, 0.9922, 0.8118, 0.0078],\n",
              "          [0.8980, 0.9922, 0.9922, 0.9922, 0.9804, 0.7137, 0.0000],\n",
              "          [0.9922, 0.9922, 0.9922, 0.7882, 0.3059, 0.0000, 0.0000]]],\n",
              "\n",
              "\n",
              "        [[[0.0000, 0.0000, 0.0000, 0.0000, 0.0000, 0.0000, 0.0000],\n",
              "          [0.0000, 0.0000, 0.0000, 0.0000, 0.0000, 0.0000, 0.0000],\n",
              "          [0.0000, 0.0000, 0.0000, 0.0000, 0.0000, 0.0000, 0.0000],\n",
              "          [0.0000, 0.0000, 0.0000, 0.0000, 0.0000, 0.0000, 0.0000],\n",
              "          [0.0000, 0.0000, 0.0000, 0.0000, 0.0000, 0.0000, 0.0000],\n",
              "          [0.0000, 0.0000, 0.0000, 0.0000, 0.0000, 0.0000, 0.0000],\n",
              "          [0.0000, 0.0000, 0.0000, 0.0000, 0.0000, 0.0000, 0.0000]]],\n",
              "\n",
              "\n",
              "        [[[0.0000, 0.0000, 0.0000, 0.0000, 0.0000, 0.0000, 0.0000],\n",
              "          [0.0000, 0.0000, 0.0000, 0.0000, 0.0000, 0.0000, 0.0706],\n",
              "          [0.0000, 0.0000, 0.0000, 0.0000, 0.2157, 0.6745, 0.8863],\n",
              "          [0.0000, 0.0000, 0.0000, 0.0000, 0.5333, 0.9922, 0.9922],\n",
              "          [0.0000, 0.0000, 0.0000, 0.0000, 0.0000, 0.0000, 0.0000],\n",
              "          [0.0000, 0.0000, 0.0000, 0.0000, 0.0000, 0.0000, 0.0000],\n",
              "          [0.0000, 0.0000, 0.0000, 0.0000, 0.0000, 0.0000, 0.0000]]],\n",
              "\n",
              "\n",
              "        [[[0.0000, 0.0902, 0.2588, 0.8353, 0.9922, 0.9922, 0.9922],\n",
              "          [0.6706, 0.8588, 0.9922, 0.9922, 0.9922, 0.9922, 0.7647],\n",
              "          [0.9922, 0.9922, 0.9922, 0.9922, 0.9569, 0.5216, 0.0431],\n",
              "          [0.9922, 0.8314, 0.5294, 0.5176, 0.0627, 0.0000, 0.0000],\n",
              "          [0.0000, 0.0000, 0.0000, 0.0000, 0.0000, 0.0000, 0.0000],\n",
              "          [0.0000, 0.0000, 0.0000, 0.0000, 0.0000, 0.0000, 0.0000],\n",
              "          [0.0000, 0.0000, 0.0000, 0.0000, 0.0000, 0.0000, 0.0000]]],\n",
              "\n",
              "\n",
              "        [[[0.9922, 0.7765, 0.3176, 0.0078, 0.0000, 0.0000, 0.0000],\n",
              "          [0.3137, 0.0353, 0.0000, 0.0000, 0.0000, 0.0000, 0.0000],\n",
              "          [0.0000, 0.0000, 0.0000, 0.0000, 0.0000, 0.0000, 0.0000],\n",
              "          [0.0000, 0.0000, 0.0000, 0.0000, 0.0000, 0.0000, 0.0000],\n",
              "          [0.0000, 0.0000, 0.0000, 0.0000, 0.0000, 0.0000, 0.0000],\n",
              "          [0.0000, 0.0000, 0.0000, 0.0000, 0.0000, 0.0000, 0.0000],\n",
              "          [0.0000, 0.0000, 0.0000, 0.0000, 0.0000, 0.0000, 0.0000]]],\n",
              "\n",
              "\n",
              "        [[[0.0000, 0.0000, 0.0000, 0.0000, 0.0000, 0.0000, 0.0000],\n",
              "          [0.0000, 0.0000, 0.0000, 0.0000, 0.0000, 0.0000, 0.0000],\n",
              "          [0.0000, 0.0000, 0.0000, 0.0000, 0.0000, 0.0000, 0.0000],\n",
              "          [0.0000, 0.0000, 0.0000, 0.0000, 0.0000, 0.0000, 0.0000],\n",
              "          [0.0000, 0.0000, 0.0000, 0.0000, 0.0000, 0.0000, 0.0000],\n",
              "          [0.0000, 0.0000, 0.0000, 0.0000, 0.0000, 0.0000, 0.0000],\n",
              "          [0.0000, 0.0000, 0.0000, 0.0000, 0.0000, 0.0000, 0.0000]]]])"
            ]
          },
          "metadata": {},
          "execution_count": 38
        }
      ]
    },
    {
      "cell_type": "code",
      "source": [
        "y_p.shape"
      ],
      "metadata": {
        "colab": {
          "base_uri": "https://localhost:8080/"
        },
        "id": "lUuTkwXAJMZ0",
        "outputId": "cfba2cc7-13cd-46bf-bc33-644b426ea5b2"
      },
      "execution_count": 39,
      "outputs": [
        {
          "output_type": "execute_result",
          "data": {
            "text/plain": [
              "torch.Size([16, 1, 7, 7])"
            ]
          },
          "metadata": {},
          "execution_count": 39
        }
      ]
    },
    {
      "cell_type": "code",
      "source": [
        "for i in range(y_p.shape[0]):\n",
        "  plt.subplot(4,4,i+1)\n",
        "  plt.axis(\"off\")\n",
        "  plt.imshow(np.transpose(y_p[i].detach().numpy(),(1,2,0)))\n",
        "\n",
        "plt.show()\n",
        "\n"
      ],
      "metadata": {
        "colab": {
          "base_uri": "https://localhost:8080/",
          "height": 406
        },
        "id": "4b3-1snIGMr3",
        "outputId": "651fc58c-6891-4d98-95c8-b7e9e778110e"
      },
      "execution_count": 41,
      "outputs": [
        {
          "output_type": "display_data",
          "data": {
            "text/plain": [
              "<Figure size 640x480 with 16 Axes>"
            ],
            "image/png": "[encoded data removed]"
          },
          "metadata": {}
        }
      ]
    },
    {
      "cell_type": "code",
      "source": [
        "class ViT_Dataset(Dataset):\n",
        "\n",
        "  def __init__(self, data):\n",
        "    self.data = data\n",
        "\n",
        "  def __len__(self):\n",
        "    return len(self.data)\n",
        "\n",
        "\n",
        "  def img_to_path(self, image, p_size = 7):\n",
        "\n",
        "    c,h,w =  image.shape\n",
        "\n",
        "    image = image.view(c, h // p_size, p_size, w // p_size, p_size)\n",
        "    image = image.permute(1,3,0,2,4)\n",
        "    image = image.flatten(0,1)\n",
        "\n",
        "\n",
        "\n",
        "    return image\n",
        "\n",
        "  def __getitem__(self, idx):\n",
        "\n",
        "    image, label = self.data[idx]\n",
        "\n",
        "    image = self.img_to_path(image)\n",
        "    image = image.view((16,7,7))\n",
        "    return image, label"
      ],
      "metadata": {
        "id": "RIvIHT7IGgcj"
      },
      "execution_count": 44,
      "outputs": []
    },
    {
      "cell_type": "code",
      "source": [
        "train_vit_ds = ViT_Dataset(train_ds)\n",
        "\n",
        "test_vit_ds = ViT_Dataset(test_ds)"
      ],
      "metadata": {
        "id": "xnosVj_yHG9-"
      },
      "execution_count": 45,
      "outputs": []
    },
    {
      "cell_type": "code",
      "source": [
        "image, label = train_vit_ds[120]"
      ],
      "metadata": {
        "id": "P1I-MWjZHclS"
      },
      "execution_count": 50,
      "outputs": []
    },
    {
      "cell_type": "code",
      "source": [
        "image.shape"
      ],
      "metadata": {
        "colab": {
          "base_uri": "https://localhost:8080/"
        },
        "id": "ZOiNZLI3HfR3",
        "outputId": "29f0082f-b922-455b-8424-b9d655bd08a8"
      },
      "execution_count": 51,
      "outputs": [
        {
          "output_type": "execute_result",
          "data": {
            "text/plain": [
              "torch.Size([16, 7, 7])"
            ]
          },
          "metadata": {},
          "execution_count": 51
        }
      ]
    },
    {
      "cell_type": "code",
      "source": [
        "for i in range(image.shape[0]):\n",
        "  plt.subplot(4,4,i+1)\n",
        "  plt.axis(\"off\")\n",
        "  plt.imshow(image[i].detach().numpy())\n",
        "\n",
        "plt.show()\n",
        "\n"
      ],
      "metadata": {
        "colab": {
          "base_uri": "https://localhost:8080/",
          "height": 406
        },
        "id": "P4Niw_mxHgsM",
        "outputId": "e5ebf8d3-12d7-43a0-df7d-9ef59e192174"
      },
      "execution_count": 52,
      "outputs": [
        {
          "output_type": "display_data",
          "data": {
            "text/plain": [
              "<Figure size 640x480 with 16 Axes>"
            ],
            "image/png": "[encoded data removed]"
          },
          "metadata": {}
        }
      ]
    },
    {
      "cell_type": "code",
      "source": [
        "train_dl = DataLoader(dataset = train_vit_ds, batch_size = 32, shuffle = True)\n",
        "\n",
        "test_dl = DataLoader(dataset = test_vit_ds, batch_size = 32, shuffle = False)"
      ],
      "metadata": {
        "id": "1Ss1nTtGHogM"
      },
      "execution_count": 53,
      "outputs": []
    },
    {
      "cell_type": "code",
      "source": [
        "x= torch.rand(size = (32,16,49))\n",
        "att = nn.MultiheadAttention(49,7)\n",
        "y = att(x,x,x)"
      ],
      "metadata": {
        "id": "wHAcDRmTJQWM"
      },
      "execution_count": 56,
      "outputs": []
    },
    {
      "cell_type": "code",
      "source": [
        "y[0].shape"
      ],
      "metadata": {
        "colab": {
          "base_uri": "https://localhost:8080/"
        },
        "id": "xfrTanyPJd5z",
        "outputId": "19869735-0f02-4dc6-e8db-3165c2f33726"
      },
      "execution_count": 63,
      "outputs": [
        {
          "output_type": "execute_result",
          "data": {
            "text/plain": [
              "torch.Size([32, 16, 49])"
            ]
          },
          "metadata": {},
          "execution_count": 63
        }
      ]
    },
    {
      "cell_type": "code",
      "source": [
        "class ViT(nn.Module):\n",
        "\n",
        "  def __init__(self, embed, hidden,num_head, num_layers, drop_rate = 0.0):\n",
        "\n",
        "    super(ViT, self).__init__()\n",
        "\n",
        "\n",
        "    self.num_layers = num_layers\n",
        "    self.ln_1 = nn.LayerNorm(embed)\n",
        "    self.msa = nn.MultiheadAttention(embed,num_head)\n",
        "    self.ln_2 = nn.LayerNorm(embed)\n",
        "    self.mlp = nn.Sequential(\n",
        "        nn.Linear(embed, hidden),\n",
        "        nn.GELU(),\n",
        "        nn.Dropout(drop_rate),\n",
        "        nn.Linear(hidden, embed),\n",
        "        nn.Dropout(drop_rate)\n",
        "    )\n",
        "\n",
        "    self.cls = nn.Linear(49*16, 10)\n",
        "\n",
        "\n",
        "\n",
        "\n",
        "  def forward(self,x):\n",
        "\n",
        "    x = x.view((-1,16,49))\n",
        "\n",
        "    for i in range(self.num_layers):\n",
        "      x = self.ln_1(x)\n",
        "      x = x + self.msa(x,x,x)[0]\n",
        "      x = x + self.mlp(self.ln_2(x))\n",
        "\n",
        "\n",
        "    # print(x.shape)\n",
        "    x = x.view((-1,16*49))\n",
        "    x = self.cls(x)\n",
        "\n",
        "\n",
        "\n",
        "    return x\n"
      ],
      "metadata": {
        "id": "afwFSheUJn0D"
      },
      "execution_count": 113,
      "outputs": []
    },
    {
      "cell_type": "code",
      "source": [
        "vit = ViT(49,3*49,7,6,0.2)"
      ],
      "metadata": {
        "id": "UoMN44hTLkv1"
      },
      "execution_count": 114,
      "outputs": []
    },
    {
      "cell_type": "code",
      "source": [
        "vit"
      ],
      "metadata": {
        "colab": {
          "base_uri": "https://localhost:8080/"
        },
        "id": "ke0K25zKNqtq",
        "outputId": "6aacac56-0e94-4ed7-d2e8-7249dd8cfe02"
      },
      "execution_count": 115,
      "outputs": [
        {
          "output_type": "execute_result",
          "data": {
            "text/plain": [
              "ViT(\n",
              "  (ln_1): LayerNorm((49,), eps=1e-05, elementwise_affine=True)\n",
              "  (msa): MultiheadAttention(\n",
              "    (out_proj): NonDynamicallyQuantizableLinear(in_features=49, out_features=49, bias=True)\n",
              "  )\n",
              "  (ln_2): LayerNorm((49,), eps=1e-05, elementwise_affine=True)\n",
              "  (mlp): Sequential(\n",
              "    (0): Linear(in_features=49, out_features=147, bias=True)\n",
              "    (1): GELU(approximate='none')\n",
              "    (2): Dropout(p=0.2, inplace=False)\n",
              "    (3): Linear(in_features=147, out_features=49, bias=True)\n",
              "    (4): Dropout(p=0.2, inplace=False)\n",
              "  )\n",
              "  (cls): Linear(in_features=784, out_features=10, bias=True)\n",
              ")"
            ]
          },
          "metadata": {},
          "execution_count": 115
        }
      ]
    },
    {
      "cell_type": "code",
      "source": [
        "x = torch.rand(size = (32,16,7,7))\n",
        "y = vit(x)"
      ],
      "metadata": {
        "id": "S6hubEyiNr8S"
      },
      "execution_count": 116,
      "outputs": []
    },
    {
      "cell_type": "code",
      "source": [
        "y.shape"
      ],
      "metadata": {
        "colab": {
          "base_uri": "https://localhost:8080/"
        },
        "id": "J0XvKnytOCjC",
        "outputId": "91d97077-9748-4732-bd66-64421ad2de67"
      },
      "execution_count": 117,
      "outputs": [
        {
          "output_type": "execute_result",
          "data": {
            "text/plain": [
              "torch.Size([32, 10])"
            ]
          },
          "metadata": {},
          "execution_count": 117
        }
      ]
    },
    {
      "cell_type": "code",
      "source": [
        "opt = torch.optim.Adam(params = vit.parameters(), lr = 1e-3)\n",
        "loss_fn = nn.CrossEntropyLoss()"
      ],
      "metadata": {
        "id": "PwTSjb2HPLjr"
      },
      "execution_count": 118,
      "outputs": []
    },
    {
      "cell_type": "code",
      "source": [
        "def train(data, model, loss_fn, opt):\n",
        "\n",
        "  model.train()\n",
        "  size = len(data.dataset)\n",
        "  for b,(x,y) in enumerate(data):\n",
        "    # x,y = x.to(device), y.to(device)\n",
        "    y_pred = model(x)\n",
        "    loss = loss_fn(y_pred, y)\n",
        "\n",
        "    opt.zero_grad()\n",
        "    loss.backward()\n",
        "    opt.step()\n",
        "\n",
        "    if b % 100 == 0:\n",
        "      print(f\"loss:{loss.item()} [{b*len(x)} | {size}]\")"
      ],
      "metadata": {
        "id": "Dvkco1_VODjx"
      },
      "execution_count": 119,
      "outputs": []
    },
    {
      "cell_type": "code",
      "source": [
        "def test(data, model, loss_fn):\n",
        "\n",
        "  model.eval()\n",
        "  test_loss, test_acc = 0,0\n",
        "  size = len(data.dataset)\n",
        "  num_batch = len(data)\n",
        "\n",
        "  with torch.no_grad():\n",
        "    for x,y in data:\n",
        "      # x,y = x.to(device), y.to(device)\n",
        "      y_pred = model(x)\n",
        "      test_loss += loss_fn(y_pred, y).item()\n",
        "      test_acc += (y_pred.argmax(1)==y).type(torch.float).sum().item()\n",
        "\n",
        "\n",
        "    test_loss /= num_batch\n",
        "    test_acc /= size\n",
        "\n",
        "    print(f\"test loss : {test_loss} test_acc:{test_acc * 100}\")\n",
        ""
      ],
      "metadata": {
        "id": "OmKY8LHxPKzy"
      },
      "execution_count": 120,
      "outputs": []
    },
    {
      "cell_type": "code",
      "source": [
        "\n",
        "for e in range(10):\n",
        "  print(f\"e:{e+1}=-=-=-=\")\n",
        "  train(train_dl, vit, loss_fn, opt)\n",
        "  test(test_dl, vit, loss_fn)"
      ],
      "metadata": {
        "colab": {
          "base_uri": "https://localhost:8080/"
        },
        "id": "NTEEjUyYPRqc",
        "outputId": "651dd2a4-f3fe-4651-ef80-26d1003c21fa"
      },
      "execution_count": 121,
      "outputs": [
        {
          "output_type": "stream",
          "name": "stdout",
          "text": [
            "e:1=-=-=-=\n",
            "loss:2.6993730068206787 [0 | 60000]\n",
            "loss:0.4714277386665344 [3200 | 60000]\n",
            "loss:0.36922183632850647 [6400 | 60000]\n",
            "loss:0.43334370851516724 [9600 | 60000]\n",
            "loss:0.4921994209289551 [12800 | 60000]\n",
            "loss:0.10027194768190384 [16000 | 60000]\n",
            "loss:0.30902358889579773 [19200 | 60000]\n",
            "loss:0.4378472566604614 [22400 | 60000]\n",
            "loss:0.30601081252098083 [25600 | 60000]\n",
            "loss:0.1379460096359253 [28800 | 60000]\n",
            "loss:0.5392231345176697 [32000 | 60000]\n",
            "loss:0.12595006823539734 [35200 | 60000]\n",
            "loss:0.1251426339149475 [38400 | 60000]\n",
            "loss:0.2503666877746582 [41600 | 60000]\n",
            "loss:0.1024709939956665 [44800 | 60000]\n",
            "loss:0.22503645718097687 [48000 | 60000]\n",
            "loss:0.029904380440711975 [51200 | 60000]\n",
            "loss:0.2500428259372711 [54400 | 60000]\n",
            "loss:0.04837258160114288 [57600 | 60000]\n",
            "test loss : 0.12449742421640243 test_acc:96.00999999999999\n",
            "e:2=-=-=-=\n",
            "loss:0.0852803960442543 [0 | 60000]\n",
            "loss:0.11040566861629486 [3200 | 60000]\n",
            "loss:0.04299405589699745 [6400 | 60000]\n",
            "loss:0.037378549575805664 [9600 | 60000]\n",
            "loss:0.049050472676754 [12800 | 60000]\n",
            "loss:0.023992586880922318 [16000 | 60000]\n",
            "loss:0.02631130814552307 [19200 | 60000]\n",
            "loss:0.020273631438612938 [22400 | 60000]\n",
            "loss:0.04593360424041748 [25600 | 60000]\n",
            "loss:0.04142456129193306 [28800 | 60000]\n",
            "loss:0.017861956730484962 [32000 | 60000]\n",
            "loss:0.007962243631482124 [35200 | 60000]\n",
            "loss:0.3343476951122284 [38400 | 60000]\n",
            "loss:0.04277380555868149 [41600 | 60000]\n",
            "loss:0.28483378887176514 [44800 | 60000]\n",
            "loss:0.10729092359542847 [48000 | 60000]\n",
            "loss:0.09107212722301483 [51200 | 60000]\n",
            "loss:0.03192901983857155 [54400 | 60000]\n",
            "loss:0.1280074566602707 [57600 | 60000]\n",
            "test loss : 0.09918548469413102 test_acc:96.86\n",
            "e:3=-=-=-=\n",
            "loss:0.09059447795152664 [0 | 60000]\n",
            "loss:0.09021703898906708 [3200 | 60000]\n",
            "loss:0.0773610919713974 [6400 | 60000]\n",
            "loss:0.021979007869958878 [9600 | 60000]\n",
            "loss:0.01775953732430935 [12800 | 60000]\n",
            "loss:0.0637001171708107 [16000 | 60000]\n",
            "loss:0.2035718858242035 [19200 | 60000]\n",
            "loss:0.5167449712753296 [22400 | 60000]\n",
            "loss:0.07261281460523605 [25600 | 60000]\n",
            "loss:0.05630858242511749 [28800 | 60000]\n",
            "loss:0.18302835524082184 [32000 | 60000]\n",
            "loss:0.01557901967316866 [35200 | 60000]\n",
            "loss:0.06010483205318451 [38400 | 60000]\n",
            "loss:0.17951546609401703 [41600 | 60000]\n",
            "loss:0.036366209387779236 [44800 | 60000]\n",
            "loss:0.17437432706356049 [48000 | 60000]\n",
            "loss:0.06173194199800491 [51200 | 60000]\n",
            "loss:0.12744267284870148 [54400 | 60000]\n",
            "loss:0.013959899544715881 [57600 | 60000]\n",
            "test loss : 0.08576704778138715 test_acc:97.17\n",
            "e:4=-=-=-=\n",
            "loss:0.03884096071124077 [0 | 60000]\n",
            "loss:0.1478472352027893 [3200 | 60000]\n",
            "loss:0.04125494137406349 [6400 | 60000]\n",
            "loss:0.11857927590608597 [9600 | 60000]\n",
            "loss:0.03733647242188454 [12800 | 60000]\n",
            "loss:0.07174613326787949 [16000 | 60000]\n",
            "loss:0.06534099578857422 [19200 | 60000]\n",
            "loss:0.029479695484042168 [22400 | 60000]\n",
            "loss:0.0035976520739495754 [25600 | 60000]\n",
            "loss:0.007023789919912815 [28800 | 60000]\n",
            "loss:0.5026812553405762 [32000 | 60000]\n",
            "loss:0.10600655525922775 [35200 | 60000]\n",
            "loss:0.0058431499637663364 [38400 | 60000]\n",
            "loss:0.02983396127820015 [41600 | 60000]\n",
            "loss:0.20371085405349731 [44800 | 60000]\n",
            "loss:0.11104536801576614 [48000 | 60000]\n",
            "loss:0.0347716361284256 [51200 | 60000]\n",
            "loss:0.05345490202307701 [54400 | 60000]\n",
            "loss:0.44043269753456116 [57600 | 60000]\n",
            "test loss : 0.07462820247347175 test_acc:97.49\n",
            "e:5=-=-=-=\n",
            "loss:0.004451107699424028 [0 | 60000]\n",
            "loss:0.06934431940317154 [3200 | 60000]\n",
            "loss:0.2076408565044403 [6400 | 60000]\n",
            "loss:0.04727001115679741 [9600 | 60000]\n",
            "loss:0.02673022821545601 [12800 | 60000]\n",
            "loss:0.05921730399131775 [16000 | 60000]\n",
            "loss:0.1216481551527977 [19200 | 60000]\n",
            "loss:0.09082471579313278 [22400 | 60000]\n",
            "loss:0.014380311593413353 [25600 | 60000]\n",
            "loss:0.03535258769989014 [28800 | 60000]\n",
            "loss:0.0704861506819725 [32000 | 60000]\n",
            "loss:0.11084645986557007 [35200 | 60000]\n",
            "loss:0.009131674654781818 [38400 | 60000]\n",
            "loss:0.01388601679354906 [41600 | 60000]\n",
            "loss:0.01745247095823288 [44800 | 60000]\n",
            "loss:0.06293259561061859 [48000 | 60000]\n",
            "loss:0.19275711476802826 [51200 | 60000]\n",
            "loss:0.04528118297457695 [54400 | 60000]\n",
            "loss:0.04629383236169815 [57600 | 60000]\n",
            "test loss : 0.06791719078881697 test_acc:97.98\n",
            "e:6=-=-=-=\n",
            "loss:0.004084929823875427 [0 | 60000]\n",
            "loss:0.010821362026035786 [3200 | 60000]\n",
            "loss:0.4600059688091278 [6400 | 60000]\n",
            "loss:0.05249346047639847 [9600 | 60000]\n",
            "loss:0.10128555446863174 [12800 | 60000]\n",
            "loss:0.06529786437749863 [16000 | 60000]\n",
            "loss:0.021386917680501938 [19200 | 60000]\n",
            "loss:0.0034843371249735355 [22400 | 60000]\n",
            "loss:0.04085250571370125 [25600 | 60000]\n",
            "loss:0.14261579513549805 [28800 | 60000]\n",
            "loss:0.05984057858586311 [32000 | 60000]\n",
            "loss:0.029663175344467163 [35200 | 60000]\n",
            "loss:0.0108850272372365 [38400 | 60000]\n",
            "loss:0.03442692011594772 [41600 | 60000]\n",
            "loss:0.0434766560792923 [44800 | 60000]\n",
            "loss:0.14984343945980072 [48000 | 60000]\n",
            "loss:0.08167694509029388 [51200 | 60000]\n",
            "loss:0.06083667650818825 [54400 | 60000]\n",
            "loss:0.023225776851177216 [57600 | 60000]\n",
            "test loss : 0.07546605107562501 test_acc:97.64\n",
            "e:7=-=-=-=\n",
            "loss:0.05133115127682686 [0 | 60000]\n",
            "loss:0.009075251407921314 [3200 | 60000]\n",
            "loss:0.04712077975273132 [6400 | 60000]\n",
            "loss:0.004799479618668556 [9600 | 60000]\n",
            "loss:0.04851676896214485 [12800 | 60000]\n",
            "loss:0.019178705289959908 [16000 | 60000]\n",
            "loss:0.008180220611393452 [19200 | 60000]\n",
            "loss:0.013789040967822075 [22400 | 60000]\n",
            "loss:0.14045359194278717 [25600 | 60000]\n",
            "loss:0.009650714695453644 [28800 | 60000]\n",
            "loss:0.18218368291854858 [32000 | 60000]\n",
            "loss:0.09531949460506439 [35200 | 60000]\n",
            "loss:0.17838796973228455 [38400 | 60000]\n",
            "loss:0.041335977613925934 [41600 | 60000]\n",
            "loss:0.010860293172299862 [44800 | 60000]\n",
            "loss:0.03748033195734024 [48000 | 60000]\n",
            "loss:0.05082809180021286 [51200 | 60000]\n",
            "loss:0.11188901960849762 [54400 | 60000]\n",
            "loss:0.010614568367600441 [57600 | 60000]\n",
            "test loss : 0.07517214574388596 test_acc:97.61\n",
            "e:8=-=-=-=\n",
            "loss:0.07355865836143494 [0 | 60000]\n",
            "loss:0.07929317653179169 [3200 | 60000]\n",
            "loss:0.022633753716945648 [6400 | 60000]\n",
            "loss:0.0019522322108969092 [9600 | 60000]\n",
            "loss:0.006529743317514658 [12800 | 60000]\n",
            "loss:0.04977734386920929 [16000 | 60000]\n",
            "loss:0.006811573635786772 [19200 | 60000]\n",
            "loss:0.06756195425987244 [22400 | 60000]\n",
            "loss:0.24263809621334076 [25600 | 60000]\n",
            "loss:0.004422714933753014 [28800 | 60000]\n",
            "loss:0.014754547737538815 [32000 | 60000]\n",
            "loss:0.024405822157859802 [35200 | 60000]\n",
            "loss:0.44550055265426636 [38400 | 60000]\n",
            "loss:0.362562358379364 [41600 | 60000]\n",
            "loss:0.007459432352334261 [44800 | 60000]\n",
            "loss:0.1454823911190033 [48000 | 60000]\n",
            "loss:0.012200483120977879 [51200 | 60000]\n",
            "loss:0.004778140224516392 [54400 | 60000]\n",
            "loss:0.013434982858598232 [57600 | 60000]\n",
            "test loss : 0.05955459237284754 test_acc:97.98\n",
            "e:9=-=-=-=\n",
            "loss:0.011295707896351814 [0 | 60000]\n",
            "loss:0.2983166575431824 [3200 | 60000]\n",
            "loss:0.009143064729869366 [6400 | 60000]\n",
            "loss:0.06356742978096008 [9600 | 60000]\n",
            "loss:0.0013339209835976362 [12800 | 60000]\n",
            "loss:0.002528348471969366 [16000 | 60000]\n",
            "loss:0.010920391418039799 [19200 | 60000]\n",
            "loss:0.003892450127750635 [22400 | 60000]\n",
            "loss:0.1001637652516365 [25600 | 60000]\n",
            "loss:0.016466893255710602 [28800 | 60000]\n",
            "loss:0.07950526475906372 [32000 | 60000]\n",
            "loss:0.21110442280769348 [35200 | 60000]\n",
            "loss:0.002119815442711115 [38400 | 60000]\n",
            "loss:0.08797553926706314 [41600 | 60000]\n",
            "loss:0.002560956869274378 [44800 | 60000]\n",
            "loss:0.015137424692511559 [48000 | 60000]\n",
            "loss:0.014425601810216904 [51200 | 60000]\n",
            "loss:0.1491239219903946 [54400 | 60000]\n",
            "loss:0.24682383239269257 [57600 | 60000]\n",
            "test loss : 0.0710088920152771 test_acc:97.85000000000001\n",
            "e:10=-=-=-=\n",
            "loss:0.002195045817643404 [0 | 60000]\n",
            "loss:0.027612833306193352 [3200 | 60000]\n",
            "loss:0.015358750708401203 [6400 | 60000]\n",
            "loss:0.16158068180084229 [9600 | 60000]\n",
            "loss:0.0053128767758607864 [12800 | 60000]\n",
            "loss:0.015628064051270485 [16000 | 60000]\n",
            "loss:0.08024676144123077 [19200 | 60000]\n",
            "loss:0.1677345186471939 [22400 | 60000]\n",
            "loss:0.017545554786920547 [25600 | 60000]\n",
            "loss:0.014772545546293259 [28800 | 60000]\n",
            "loss:0.0018916731933131814 [32000 | 60000]\n",
            "loss:0.05940953269600868 [35200 | 60000]\n",
            "loss:0.007990495301783085 [38400 | 60000]\n",
            "loss:0.003997335210442543 [41600 | 60000]\n",
            "loss:0.01255637314170599 [44800 | 60000]\n",
            "loss:0.057947203516960144 [48000 | 60000]\n",
            "loss:0.034839242696762085 [51200 | 60000]\n",
            "loss:0.015865178778767586 [54400 | 60000]\n",
            "loss:0.043127674609422684 [57600 | 60000]\n",
            "test loss : 0.05859260917712238 test_acc:98.22999999999999\n"
          ]
        }
      ]
    },
    {
      "cell_type": "code",
      "source": [],
      "metadata": {
        "id": "nTjfwHqZPW75"
      },
      "execution_count": null,
      "outputs": []
    }
  ],
  "metadata": {
    "colab": {
      "provenance": [],
      "mount_file_id": "1L0PUOgrzn-qkA-0rh65IayAi_Vgdm3P-",
      "authorship_tag": "ABX9TyNy0g6Csvi7FOpGf/QOroX5",
      "include_colab_link": true
    },
    "kernelspec": {
      "display_name": "Python 3",
      "name": "python3"
    },
    "language_info": {
      "name": "python"
    }
  },
  "nbformat": 4,
  "nbformat_minor": 0
}